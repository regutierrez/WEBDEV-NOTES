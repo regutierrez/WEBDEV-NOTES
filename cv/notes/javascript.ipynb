{
 "cells": [
  {
   "cell_type": "markdown",
   "metadata": {},
   "source": [
    "# Declaring variables\n",
    "\n",
    "### var\n",
    "typical shit. can be overwritten\n",
    "\n",
    "### let\n",
    "same as var, but throws an error if it is being overwritten by a `var` declaration\n",
    "\n",
    "### const\n",
    "cannot be changed at all. hindi pwede i-reassign. read only lang siya\n",
    "- naming convention ay uppercase kapag immutable (like const) ang variable\n",
    "\n",
    "### push() pop() shift()\n",
    "`myArray.push(5)` adds a new element (pwedeng array, pwedeng 1 or more elements) at the end of your array\n",
    "`myArray.pop()` removes the last element from an array and returns that element. pwede ko iassign yan sa bagong variable\n",
    "`myArray.shift()` same as pop pero yung first element yung tinatanggal at nirereturn niya\n",
    "`myArray.unshift()` para siyang push pero adds it to the beginning of your array\n",
    "\n",
    "### Global scope and functions\n",
    "In JavaScript, scope refers to the visibility of variables. Variables which are defined outside of a function block have Global scope. This means, they can be seen everywhere in your JavaScript code.\n",
    "\n",
    "Variables which are declared without the `let` or `const` keywords are automatically created in the global scope. This can create unintended consequences elsewhere in your code or when running a function again. You should always declare your variables with let or const.\n",
    "\n",
    "You can initialize variables in a function without using `let`, `var` or `const`. That is a **GLOBAL VARIABLE**\n",
    "\n",
    "initializing variables inside a function using `let` or `const` are local variables\n",
    "\n",
    "Functions with no `return` statement returns an `undefined` return value.\n",
    "\n",
    "**NOTE**\n",
    "*In Computer Science a queue is an abstract Data Structure where items are kept in order. New items can be added at the back of the queue and old items are taken off from the front of the queue.*"
   ]
  }
 ],
 "metadata": {
  "kernelspec": {
   "display_name": "Python 3.10.6 64-bit",
   "language": "python",
   "name": "python3"
  },
  "language_info": {
   "name": "python",
   "version": "3.10.6"
  },
  "orig_nbformat": 4,
  "vscode": {
   "interpreter": {
    "hash": "916dbcbb3f70747c44a77c7bcd40155683ae19c65e1c03b4aa3499c5328201f1"
   }
  }
 },
 "nbformat": 4,
 "nbformat_minor": 2
}
