{
 "cells": [
  {
   "cell_type": "markdown",
   "metadata": {},
   "source": [
    "# Font Faces\n",
    "\n",
    "## Serif\n",
    "- serious\n",
    "- authoritative\n",
    "- old\n",
    "- traditional\n",
    "- stable\n",
    "- respectable\n",
    "\n",
    "## Sans Serif\n",
    "- sensible\n",
    "- simple\n",
    "- straightforward\n",
    "- more legible\n",
    "\n",
    "## Script\n",
    "- personal\n",
    "- creative\n",
    "- elegant\n",
    "\n",
    "## Display\n",
    "- friendly\n",
    "- loud\n",
    "- amusing\n",
    "\n",
    "## Modern\n",
    "- stylish\n",
    "- chic\n",
    "- smart\n",
    "\n",
    "### \n",
    "- Humanist >>> more legible\n",
    "\n",
    "### Things to Consider for Legibility\n",
    "- open shapes\n",
    "- ample intercharacter spacing\n",
    "- unambiguous forms\n",
    "- varying proportions\n",
    "\n",
    "\n",
    "## Chosing Fonts\n",
    "Consider using at most 2 fonts in a sentence/poster\n",
    "\n",
    "If using more than 1 font, pick fonts with similar mood and time era\n",
    "Or pwede rin namang contrasing types (Serif and sans-serif, etc)\n",
    "\n",
    "# Managing Attention\n",
    "\n",
    "Take attention of readers by:\n",
    "- using colors (accent colors)\n",
    "- using size\n",
    "- layout\n",
    "    - 40-60 characters per line or 6 words per line\n",
    "- alignment\n",
    "    - reduce the numer of alignment points\n",
    "- adding whitespaces\n",
    "    - nagiging mas minimalist, mas nagmumukhang mahal\n",
    "- audience\n",
    "\n",
    "# User experience\n",
    "- simplicity\n",
    "- consistency\n",
    "- readding patterns\n",
    "    - most common pattern is F pattern. (Try to incorporate this to your CV)\n",
    "    - meron ding Z pattern. (Parang login page ng facebook)\n",
    "- all platform design (make sure it renders properly on all device types)\n",
    "- avoid using dark patterns (using web design to trick users to doing what they dont want to do)\n",
    "    - ex: nakagray out yung normal delivery tapos nakahighlight yung express delivery na may extra bayad\n",
    "    - check ryanair\n",
    "\n",
    "    "
   ]
  },
  {
   "cell_type": "markdown",
   "metadata": {},
   "source": []
  }
 ],
 "metadata": {
  "kernelspec": {
   "display_name": "Python 3.10.6 64-bit",
   "language": "python",
   "name": "python3"
  },
  "language_info": {
   "name": "python",
   "version": "3.10.6"
  },
  "orig_nbformat": 4,
  "vscode": {
   "interpreter": {
    "hash": "916dbcbb3f70747c44a77c7bcd40155683ae19c65e1c03b4aa3499c5328201f1"
   }
  }
 },
 "nbformat": 4,
 "nbformat_minor": 2
}
